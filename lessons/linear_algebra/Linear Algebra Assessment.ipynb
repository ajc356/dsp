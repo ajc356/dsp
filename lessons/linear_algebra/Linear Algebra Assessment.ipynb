{
 "cells": [
  {
   "cell_type": "code",
   "execution_count": 1,
   "metadata": {},
   "outputs": [],
   "source": [
    "#!/bin/python3\n",
    "\n",
    "import sys\n",
    "import os\n",
    "sys.path.append('/var/ml/python3/lib/python3.5/site-packages')\n",
    "import numpy as np\n",
    "\n",
    "\n",
    "# Do not change these variables\n",
    "A = np.array([[1,2,3],[2,7,4]])\n",
    "B = np.array([[1,-1],[0,1]])\n",
    "C = np.array([[5,-1],[9,1],[6,0]])\n",
    "D = np.array([[3,-2,-1],[1,2,3]])\n",
    "\n",
    "u = np.array([6,2,-3,5])\n",
    "v = np.array([3,5,-1,4])\n"
   ]
  },
  {
   "cell_type": "code",
   "execution_count": 78,
   "metadata": {},
   "outputs": [
    {
     "name": "stdout",
     "output_type": "stream",
     "text": [
      "[ 3  5 -1  4]\n"
     ]
    }
   ],
   "source": [
    "w = np.array([[1],[8],[0],[5]])\n",
    "w.shape"
   ]
  },
  {
   "cell_type": "code",
   "execution_count": 74,
   "metadata": {},
   "outputs": [
    {
     "name": "stdout",
     "output_type": "stream",
     "text": [
      "{'A': (2, 3), 'B': (2, 2), 'C': (3, 2), 'D': (2, 3), 'u': (4,), 'v': (4,)}\n"
     ]
    }
   ],
   "source": [
    "\n",
    "# Q1: record the dimensions of A, B, C, D, u, v respectively in the dict below. \n",
    "#     Do not type the answers, make python do the work\n",
    "\n",
    "dimensions = {\n",
    "    'A': A.shape,\n",
    "    'B': B.shape,\n",
    "    'C': C.shape,\n",
    "    'D': D.shape,\n",
    "    'u': u.shape,\n",
    "    'v': v.shape\n",
    "}\n",
    "\n",
    "print(dimensions)"
   ]
  },
  {
   "cell_type": "code",
   "execution_count": 16,
   "metadata": {},
   "outputs": [],
   "source": [
    "# Q2: vector operations\n",
    "#     assign `None` if the operation is not defined\n",
    "#     do not type the answers, make python do the work\n",
    "alpha = 6\n",
    "\n",
    "u_plus_v =  u+v           # u+v\n",
    "u_minus_v =    u-v        # u-v\n",
    "alpha_times_u =   alpha*u     # alpha * u, alpha = 6\n",
    "u_dot_v = np.dot(u,v)             # u . v\n",
    "norm_u = np.linalg.norm(u)              # ||u|| \n",
    "\n"
   ]
  },
  {
   "cell_type": "code",
   "execution_count": 83,
   "metadata": {},
   "outputs": [
    {
     "data": {
      "text/plain": [
       "8.602325267042627"
      ]
     },
     "execution_count": 83,
     "metadata": {},
     "output_type": "execute_result"
    }
   ],
   "source": [
    "# u_plus_v\n",
    "# u_minus_v\n",
    "# alpha_times_u\n",
    "# u_dot_v\n",
    "norm_u"
   ]
  },
  {
   "cell_type": "code",
   "execution_count": 85,
   "metadata": {},
   "outputs": [],
   "source": [
    "# Q3: compute the following and assign to variables below:\n",
    "#     assign `None` if the operation is not defined\n",
    "#     do not type the answers, make python do the work\n",
    "\n",
    "A_plus_C = None              # A + C\n",
    "A_minus_Ctranspose = A - np.transpose(C)   # A - C.T\n",
    "Ctranspose_plus_3D = np.transpose(C)+ 3*D    # C.T + 3*D\n",
    "B_times_A = np.matmul(B, A)           # B*A\n",
    "B_times_Atranspose =  None  # B*A.T\n",
    "\n"
   ]
  },
  {
   "cell_type": "code",
   "execution_count": 90,
   "metadata": {},
   "outputs": [],
   "source": [
    "# A_plus_C \n",
    "# A_minus_Ctranspose \n",
    "# Ctranspose_plus_3D \n",
    "# B_times_A \n",
    "B_times_Atranspose \n"
   ]
  },
  {
   "cell_type": "code",
   "execution_count": 68,
   "metadata": {},
   "outputs": [],
   "source": [
    "# Q4: (bonus)\n",
    "\n",
    "B_times_C = None             # B*C\n",
    "C_times_B = np.matmul(C, B)            # C*B\n",
    "B_exp_4 = np.linalg.matrix_power(B, 4)               # B^4\n",
    "A_times_Atranspose = np.matmul(A, np.transpose(A))    # A*A.T\n",
    "Dtranspose_times_D = np.dot(np.transpose(D), D)   # D.T*D\n",
    "\n",
    "A_orig = np.array([[1,2,3],[2,7,4]])"
   ]
  },
  {
   "cell_type": "code",
   "execution_count": 66,
   "metadata": {},
   "outputs": [
    {
     "data": {
      "text/plain": [
       "array([[ 1, -4],\n",
       "       [ 0,  1]])"
      ]
     },
     "execution_count": 66,
     "metadata": {},
     "output_type": "execute_result"
    }
   ],
   "source": [
    " np.linalg.matrix_power(B, 4)"
   ]
  },
  {
   "cell_type": "code",
   "execution_count": 70,
   "metadata": {},
   "outputs": [
    {
     "data": {
      "text/plain": [
       "array([[10, -4,  0],\n",
       "       [-4,  8,  8],\n",
       "       [ 0,  8, 10]])"
      ]
     },
     "execution_count": 70,
     "metadata": {},
     "output_type": "execute_result"
    }
   ],
   "source": [
    "np.dot(np.transpose(D), D)"
   ]
  }
 ],
 "metadata": {
  "kernelspec": {
   "display_name": "Python 3",
   "language": "python",
   "name": "python3"
  },
  "language_info": {
   "codemirror_mode": {
    "name": "ipython",
    "version": 3
   },
   "file_extension": ".py",
   "mimetype": "text/x-python",
   "name": "python",
   "nbconvert_exporter": "python",
   "pygments_lexer": "ipython3",
   "version": "3.8.3"
  }
 },
 "nbformat": 4,
 "nbformat_minor": 4
}
